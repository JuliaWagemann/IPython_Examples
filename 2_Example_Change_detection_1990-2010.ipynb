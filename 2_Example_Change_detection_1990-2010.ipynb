{
 "metadata": {
  "name": "",
  "signature": "sha256:b21d0209e8ee662d49f78526d7fd62e14b8955bfd9e4d07c5b6e9e4dea2a5856"
 },
 "nbformat": 3,
 "nbformat_minor": 0,
 "worksheets": [
  {
   "cells": [
    {
     "cell_type": "code",
     "collapsed": false,
     "input": [
      "from __future__ import print_function\n",
      "\n",
      "from rpy2.robjects.packages import importr\n",
      "from rpy2.robjects import r\n",
      "import rpy2.robjects.numpy2ri as rpyn\n",
      "import datetime\n",
      "import ee\n",
      "import numpy as np\n",
      "import os\n",
      "import matplotlib.pyplot as plt\n",
      "from pylab import figure\n",
      "import matplotlib.dates as ndates\n",
      "from pandas import *\n",
      "\n",
      "from IPython.html import widgets\n",
      "from IPython.display import display\n",
      "from IPython.utils import traitlets\n",
      "from IPython.core.display import Javascript\n",
      "\n",
      "% reload_ext rpy2.ipython\n",
      "% matplotlib inline\n",
      "\n",
      "\n",
      "#os.environ['R_HOME'] = 'C:\\Program Files\\R\\R-3.1.1'\n",
      "#os.environ['R_USER'] = 'Julia Wagemann'"
     ],
     "language": "python",
     "metadata": {},
     "outputs": [],
     "prompt_number": 1
    },
    {
     "cell_type": "code",
     "collapsed": false,
     "input": [
      "%run integrateGoogleMaps.ipynb"
     ],
     "language": "python",
     "metadata": {},
     "outputs": [
      {
       "javascript": [
        "require([\"widgets/js/widget\"], function(WidgetManager){\n",
        "    var maps = [];\n",
        "    \n",
        "    // Define the GoogleMapsView\n",
        "    var GoogleMapsView = IPython.DOMWidgetView.extend({\n",
        "        \n",
        "        render: function() {\n",
        "            // Resize widget element to be 100% wide\n",
        "            this.$el.css('width', '100%');\n",
        "\n",
        "            // iframe source;  just enough to load Google Maps and let us poll whether initialization is complete\n",
        "            var src='<html style=\"height:100%\"><head>' +\n",
        "                '<scr'+'ipt src=\"http://maps.googleapis.com/maps/api/js?sensor=false\"></scr'+'ipt>' +\n",
        "                '<scr'+'ipt>google.maps.event.addDomListener(window,\"load\",function(){ready=true});</scr'+'ipt>' +\n",
        "                '</head>' +\n",
        "                '<body style=\"height:100%; margin:0px; padding:0px\"></body></html>';\n",
        "            \n",
        "            // Create the Google Maps container element.\n",
        "            this.$iframe = $('<iframe />')\n",
        "                .css('width', '100%')\n",
        "                .css('height', '300px')\n",
        "                .attr('srcdoc', src)\n",
        "                .appendTo(this.$el);\n",
        "                        \n",
        "            var self = this; // hold onto this for initMapWhenReady\n",
        "\n",
        "            // Wait until maps library has finished loading in iframe, then create map\n",
        "            function initMapWhenReady() {\n",
        "                // Iframe document and window\n",
        "                var doc = self.$iframe[0].contentDocument;\n",
        "               var win = self.$iframe[0].contentWindow;\n",
        "                if (!win || !win.ready) {\n",
        "                    // Maps library not yet loaded;  try again soon\n",
        "                    setTimeout(initMapWhenReady, 20);\n",
        "                    return;\n",
        "                }\n",
        "\n",
        "                // Maps library finished loading.  Build map now.\n",
        "                var mapOptions = {\n",
        "                    center: new win.google.maps.LatLng(self.model.get('lat'), self.model.get('lng')),\n",
        "                    zoom: self.model.get('zoom')\n",
        "                };\n",
        "                var mapDiv = $('<div />')\n",
        "                    .css('width', '100%')\n",
        "                    .css('height', '100%')\n",
        "                    .appendTo($(doc.body));\n",
        "                self.map = new win.google.maps.Map(mapDiv[0], mapOptions);\n",
        "                \n",
        "                \n",
        "                // Add an event listeners for user panning, zooming, and resizing map\n",
        "                // TODO(rsargent): Bind self across all methods, and save some plumbing here\n",
        "                win.google.maps.event.addListener(self.map, 'bounds_changed', function () {\n",
        "                    self.handleBoundsChanged();\n",
        "                });\n",
        "                \n",
        "                self.initializeLayersControl();\n",
        "            }\n",
        "           initMapWhenReady();\n",
        "        },\n",
        "        \n",
        "        LayersControl: function(widget, controlDiv, map) {\n",
        "            var win = widget.$iframe[0].contentWindow;\n",
        "            var chicago = new win.google.maps.LatLng(41.850033, -87.6500523);\n",
        "\n",
        "            // Set CSS styles for the DIV containing the control\n",
        "            // Setting padding to 5 px will offset the control\n",
        "            // from the edge of the map.\n",
        "            controlDiv.style.padding = '5px';\n",
        "\n",
        "            // Set CSS for the control border.\n",
        "            var $controlUI = $('<div />')\n",
        "                .css('backgroundColor', 'white')\n",
        "                .css('borderStyle', 'solid')\n",
        "                .css('borderWidth', '1px')\n",
        "                .css('cursor', 'pointer')\n",
        "                .css('textAlign', 'center')\n",
        "                .appendTo($(controlDiv));\n",
        "            \n",
        "            // Set CSS for the control interior.\n",
        "            var $controlContents = $('<div />')\n",
        "                .css('fontFamily', 'Arial,sans-serif')\n",
        "                .css('fontSize', '12px')\n",
        "                .css('paddingLeft', '4px')\n",
        "                .css('paddingRight', '4px')\n",
        "                .css('paddingTop', '0px')\n",
        "                .css('paddingBottom', '0px')\n",
        "                .appendTo($controlUI);\n",
        "            \n",
        "            this.$controlTable = $('<table />')\n",
        "                .append($('<tr><td colspan=2>Layers</td></tr>'))\n",
        "                .appendTo($controlContents);\n",
        "        },\n",
        "\n",
        "        initializeLayersControl: function() {\n",
        "            var doc = this.$iframe[0].contentDocument;\n",
        "            var win = this.$iframe[0].contentWindow;\n",
        "\n",
        "            // Create the DIV to hold the control and call the LayersControl() constructor\n",
        "            // passing in this DIV.\n",
        "    \n",
        "            var layersControlDiv = document.createElement('div');\n",
        "            this.layersControl = new this.LayersControl(this, layersControlDiv, this.map);\n",
        "\n",
        "            layersControlDiv.index = 1;\n",
        "            this.map.controls[win.google.maps.ControlPosition.TOP_RIGHT].push(layersControlDiv);\n",
        "        },\n",
        "        \n",
        "        // Map geometry changed (pan, zoom, resize)\n",
        "        handleBoundsChanged: function() {\n",
        "            this.model.set('lng', this.map.getCenter().lng());\n",
        "            this.model.set('lat', this.map.getCenter().lat());\n",
        "            this.model.set('zoom', this.map.getZoom());\n",
        "            var bounds = this.map.getBounds();\n",
        "            var playgroundCompatible = [bounds.getSouthWest().lng(), bounds.getSouthWest().lat(),\n",
        "                                        bounds.getNorthEast().lng(), bounds.getNorthEast().lat()];\n",
        "            this.model.set('bounds', playgroundCompatible);\n",
        "            this.touch();\n",
        "        },\n",
        "        \n",
        "        // Receive custom messages from Python backend\n",
        "        on_msg: function(msg) {\n",
        "            var win = this.$iframe[0].contentWindow;\n",
        "            if (msg.command == 'addLayer') {\n",
        "                this.addLayer(msg.mapid, msg.token, msg.name, msg.visible);\n",
        "            } else if (msg.command == 'center') {\n",
        "                this.map.setCenter(new win.google.maps.LatLng(msg.lat, msg.lng));\n",
        "                if (msg.zoom !== null) {\n",
        "                    this.map.setZoom(msg.zoom);\n",
        "                }\n",
        "            }\n",
        "        },\n",
        "        \n",
        "        // Add an Earth Engine layer\n",
        "        addLayer: function(mapid, token, name, visible) {\n",
        "            var win = this.$iframe[0].contentWindow;\n",
        "            var eeMapOptions = {\n",
        "                getTileUrl: function(tile, zoom) {\n",
        "                    var url = ['https://earthengine.googleapis.com/map',\n",
        "                               mapid, zoom, tile.x, tile.y].join(\"/\");\n",
        "                    url += '?token=' + token\n",
        "                    return url;\n",
        "                },\n",
        "                tileSize: new win.google.maps.Size(256, 256),\n",
        "                opacity: visible ? 1.0 : 0.0,\n",
        "            };\n",
        "            \n",
        "            // Create the overlay map type\n",
        "            var mapType = new win.google.maps.ImageMapType(eeMapOptions);\n",
        "                \n",
        "            // Overlay the Earth Engine generated layer\n",
        "            this.map.overlayMapTypes.push(mapType);\n",
        "\n",
        "            // Update layer visibility control\n",
        "            var maxSlider = 100;\n",
        "            \n",
        "            function updateOpacity() {\n",
        "                mapType.setOpacity($checkbox[0].checked ? $slider[0].value / 100.0 : 0);\n",
        "            }\n",
        "            \n",
        "            var $checkbox = $('<input type=\"checkbox\">')\n",
        "                .prop('checked', visible)\n",
        "                .change(updateOpacity);\n",
        "            \n",
        "            var $slider = $('<input type=\"range\" />')\n",
        "                .prop('min', 0)\n",
        "                .prop('max', maxSlider)\n",
        "                .prop('value', maxSlider)\n",
        "                .css('width', '60px')\n",
        "                .on('input', updateOpacity);\n",
        "\n",
        "            // If user doesn't specify a layer name, create a default\n",
        "            if (name === null) {\n",
        "                name = 'Layer ' + this.map.overlayMapTypes.length;\n",
        "            }\n",
        "            \n",
        "            var $row = $('<tr />');\n",
        "            $('<td align=\"left\" />').append($checkbox).append(name).appendTo($row);\n",
        "            $('<td />').append($slider).appendTo($row);\n",
        "\n",
        "            this.layersControl.$controlTable.append($row);\n",
        "        }\n",
        "    });\n",
        "    \n",
        "    // Register the GoogleMapsView with the widget manager.\n",
        "    WidgetManager.register_widget_view('GoogleMapsView', GoogleMapsView);\n",
        "});"
       ],
       "metadata": {},
       "output_type": "display_data",
       "text": [
        "<IPython.core.display.Javascript at 0xbb5a908>"
       ]
      }
     ],
     "prompt_number": 2
    },
    {
     "cell_type": "code",
     "collapsed": false,
     "input": [
      "class GoogleMapsWidget(widgets.DOMWidget):\n",
      "    _view_name = traitlets.Unicode('GoogleMapsView', sync=True)\n",
      "    value = traitlets.Unicode(sync=True)\n",
      "    description = traitlets.Unicode(sync=True)\n",
      "    lat = traitlets.CFloat(0, help=\"Center latitude, -90 to 90\", sync=True)\n",
      "    lng = traitlets.CFloat(0, help=\"Center longitude, -180 to 180\", sync=True)\n",
      "    zoom = traitlets.CInt(0, help=\"Zoom level, 0 to ~25\", sync=True)\n",
      "    bounds = traitlets.List([], help=\"Visible bounds, [W, S, E, N]\", sync=True)\n",
      "    \n",
      "    def __init__(self, lng=0.0, lat=0.0, zoom=2):\n",
      "        self.lng = lng\n",
      "        self.lat = lat\n",
      "        self.zoom = zoom\n",
      "        \n",
      "    def addLayer(self, image, vis_params, name=None, visible=True):\n",
      "        mapid = image.getMapId(vis_params)\n",
      "        self.send({'command':'addLayer', 'mapid': mapid['mapid'], 'token': mapid['token'], 'name': name, 'visible': visible})\n",
      "        \n",
      "    def center(self, lng, lat, zoom=None):\n",
      "        self.send({'command': 'center', 'lng': lng, 'lat': lat, 'zoom': zoom})"
     ],
     "language": "python",
     "metadata": {},
     "outputs": []
    },
    {
     "cell_type": "code",
     "collapsed": false,
     "input": [
      "ee.Initialize()"
     ],
     "language": "python",
     "metadata": {},
     "outputs": [],
     "prompt_number": 3
    },
    {
     "cell_type": "heading",
     "level": 3,
     "metadata": {},
     "source": [
      "Change detection of Lake Urmia between 1990 and 2010"
     ]
    },
    {
     "cell_type": "code",
     "collapsed": false,
     "input": [
      "map = GoogleMapsWidget(lat=38,lng=46,zoom=8)\n",
      "display(map)\n",
      "\n",
      "LS7Collection = ee.ImageCollection('LE7_L1T')\n",
      "LS5Collection = ee.ImageCollection('LT5_L1T')\n",
      "\n",
      "polygon = ee.Geometry.Rectangle(45,37,47,39);\n",
      "\n",
      "collectionFilter2010 = (LS7Collection.filterDate('2010-01-01','2010-12-31')\n",
      "                        .filterMetadata('CLOUD_COVER','less_than',10)\n",
      "                        .filterBounds(polygon))\n",
      "\n",
      "collectionFilter1990 = (LS5Collection.filterDate('1990-01-01','1990-12-31')\n",
      "                    .filterMetadata('CLOUD_COVER','less_than',30)\n",
      "                    .filterBounds(polygon))\n",
      "\n",
      "mosaic2010 = collectionFilter2010.median()\n",
      "mosaic1990 = collectionFilter1990.median()\n",
      "\n",
      "vis_params1 = {'bands': 'B4,B3,B2','min': 10, 'max': 150}\n",
      "\n",
      "map.addLayer(mosaic1990,vis_params=vis_params1,name=\"1990\")\n",
      "map.addLayer(mosaic2010,vis_params=vis_params1,name=\"2010\")\n",
      "\n",
      "\n"
     ],
     "language": "python",
     "metadata": {},
     "outputs": [
      {
       "output_type": "stream",
       "stream": "stdout",
       "text": [
        "ee.Image({\n",
        "  \"type\": \"Invocation\", \n",
        "  \"arguments\": {\n",
        "    \"collection\": {\n",
        "      \"type\": \"Invocation\", \n",
        "      \"arguments\": {\n",
        "        \"filter\": {\n",
        "          \"type\": \"Invocation\", \n",
        "          \"arguments\": {\n",
        "            \"leftField\": \".all\", \n",
        "            \"rightValue\": {\n",
        "              \"type\": \"Invocation\", \n",
        "              \"arguments\": {\n",
        "                \"geometry\": {\n",
        "                  \"type\": \"Polygon\", \n",
        "                  \"coordinates\": [\n",
        "                    [\n",
        "                      [\n",
        "                        45, \n",
        "                        39\n",
        "                      ], \n",
        "                      [\n",
        "                        45, \n",
        "                        37\n",
        "                      ], \n",
        "                      [\n",
        "                        47, \n",
        "                        37\n",
        "                      ], \n",
        "                      [\n",
        "                        47, \n",
        "                        39\n",
        "                      ]\n",
        "                    ]\n",
        "                  ]\n",
        "                }\n",
        "              }, \n",
        "              \"functionName\": \"Feature\"\n",
        "            }\n",
        "          }, \n",
        "          \"functionName\": \"Filter.intersects\"\n",
        "        }, \n",
        "        \"collection\": {\n",
        "          \"type\": \"Invocation\", \n",
        "          \"arguments\": {\n",
        "            \"filter\": {\n",
        "              \"type\": \"Invocation\", \n",
        "              \"arguments\": {\n",
        "                \"leftField\": \"CLOUD_COVER\", \n",
        "                \"rightValue\": 10\n",
        "              }, \n",
        "              \"functionName\": \"Filter.lessThan\"\n",
        "            }, \n",
        "            \"collection\": {\n",
        "              \"type\": \"Invocation\", \n",
        "              \"arguments\": {\n",
        "                \"filter\": {\n",
        "                  \"type\": \"Invocation\", \n",
        "                  \"arguments\": {\n",
        "                    \"rightField\": \"system:time_start\", \n",
        "                    \"leftValue\": {\n",
        "                      \"type\": \"Invocation\", \n",
        "                      \"arguments\": {\n",
        "                        \"start\": \"2010-01-01\", \n",
        "                        \"end\": \"2010-12-31\"\n",
        "                      }, \n",
        "                      \"functionName\": \"DateRange\"\n",
        "                    }\n",
        "                  }, \n",
        "                  \"functionName\": \"Filter.dateRangeContains\"\n",
        "                }, \n",
        "                \"collection\": {\n",
        "                  \"type\": \"Invocation\", \n",
        "                  \"arguments\": {\n",
        "                    \"id\": \"LE7_L1T\"\n",
        "                  }, \n",
        "                  \"functionName\": \"ImageCollection.load\"\n",
        "                }\n",
        "              }, \n",
        "              \"functionName\": \"Collection.filter\"\n",
        "            }\n",
        "          }, \n",
        "          \"functionName\": \"Collection.filter\"\n",
        "        }\n",
        "      }, \n",
        "      \"functionName\": \"Collection.filter\"\n",
        "    }\n",
        "  }, \n",
        "  \"functionName\": \"reduce.median\"\n",
        "})\n"
       ]
      }
     ],
     "prompt_number": 4
    },
    {
     "cell_type": "code",
     "collapsed": false,
     "input": [],
     "language": "python",
     "metadata": {},
     "outputs": [],
     "prompt_number": 7
    },
    {
     "cell_type": "code",
     "collapsed": false,
     "input": [],
     "language": "python",
     "metadata": {},
     "outputs": []
    }
   ],
   "metadata": {}
  }
 ]
}