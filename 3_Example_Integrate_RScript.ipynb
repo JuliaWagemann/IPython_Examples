{
 "metadata": {
  "name": "",
  "signature": "sha256:956d0d0717826d1cda8b748385934b5213bf216b1ba71660a14a77090e37fb9a"
 },
 "nbformat": 3,
 "nbformat_minor": 0,
 "worksheets": [
  {
   "cells": [
    {
     "cell_type": "code",
     "collapsed": false,
     "input": [
      "from __future__ import print_function\n",
      "\n",
      "from rpy2.robjects.packages import importr\n",
      "from rpy2.robjects import r\n",
      "import rpy2.robjects.numpy2ri as rpyn\n",
      "import datetime\n",
      "import ee\n",
      "import numpy as np\n",
      "import os\n",
      "import matplotlib.pyplot as plt\n",
      "from pylab import figure\n",
      "import matplotlib.dates as ndates\n",
      "from pandas import *\n",
      "\n",
      "from IPython.html import widgets\n",
      "from IPython.display import display\n",
      "from IPython.utils import traitlets\n",
      "from IPython.core.display import Javascript\n",
      "\n",
      "% reload_ext rpy2.ipython\n",
      "% matplotlib inline\n",
      "\n",
      "\n",
      "#os.environ['R_HOME'] = 'C:\\Program Files\\R\\R-3.1.1'\n",
      "#os.environ['R_USER'] = 'Julia Wagemann'"
     ],
     "language": "python",
     "metadata": {},
     "outputs": [],
     "prompt_number": 6
    },
    {
     "cell_type": "code",
     "collapsed": false,
     "input": [
      "ee.Initialize()"
     ],
     "language": "python",
     "metadata": {},
     "outputs": [],
     "prompt_number": 9
    },
    {
     "cell_type": "heading",
     "level": 3,
     "metadata": {},
     "source": [
      "Load and run RScript to calculate seasonal CCI SL anomalies"
     ]
    },
    {
     "cell_type": "code",
     "collapsed": false,
     "input": [
      "os.chdir('C:/Users/Julia Wagemann/Desktop/Teleconnections')\n",
      "%load EOT_v1.4.R"
     ],
     "language": "python",
     "metadata": {},
     "outputs": [],
     "prompt_number": 10
    },
    {
     "cell_type": "code",
     "collapsed": false,
     "input": [
      "%%R\n",
      "\n",
      "library(remote)\n",
      "library(latticeExtra)\n",
      "library(gridExtra)\n",
      "library(ncdf)\n",
      "library(MASS)\n",
      "\n",
      "\n",
      "setwd(\"//TEC-JULIA-FRA/Users/julia_francesca/Desktop/Teleconnections\")\n",
      "source(\"anomalies_functions_v1.1.R\")\n",
      "\n",
      "path_resp <- \"//TEC-JULIA-FRA/Users/julia_francesca/Documents/3_Data/2_Anomalies/ERA_Interim/monthly/4_TP/3deg\"\n",
      "path_pred <- \"//TEC-JULIA-FRA/Users/julia_francesca/Documents/3_Data/2_Anomalies/ERA_Interim/monthly/2_SLP/3deg\"\n",
      "\n",
      "path_EOT <- \"//TEC-JULIA-FRA/Users/julia_francesca/Documents/3_Data/4_Results/2_EOT/ERA_Interim/predictor_response/\"\n",
      "nameVector <- c(\"Jan_\", \"Feb_\", \"Mar_\", \"Apr_\", \"May_\", \"Jun_\", \"Jul_\",\"Aug_\",\"Sep_\",\"Oct_\",\"Nov_\",\"Dec_\" )\n",
      "\n",
      "\n",
      "setwd(path_resp)\n",
      "fileList <- list.files(pattern=\".nc\")\n",
      "lat_resp <- getLat(fileList[1])\n",
      "lon_resp <- getLon(fileList[1])\n",
      "\n",
      "setwd(path_pred)\n",
      "fileList <- list.files(pattern=\".nc\")\n",
      "lat_pred <- getLat(fileList[1])\n",
      "lon_pred <- getLon(fileList[1])\n",
      "\n",
      "st_resp <- createBigStack(path_resp,nameVector,1000)\n",
      "st_pred <- createBigStack(path_pred,nameVector,0.01)\n",
      "\n",
      "lag_vec <- c(1:12)\n",
      "for(i in lag_vec){\n",
      "  lagged <- lagalize(st_pred,st_resp,lag=i,freq=12)\n",
      "  \n",
      "  st_resp.dns <- denoise(lagged[[2]],expl.var=0.9)\n",
      "  st_pred.dns <- denoise(lagged[[1]],expl.var=0.9)\n",
      "  \n",
      "  nrLayers <- nlayers(st_resp.dns)\n",
      "\n",
      "  modes <- eot(x = st_pred.dns, y = st_resp.dns, \n",
      "               n = 3, standardised = FALSE, \n",
      "               reduce.both = FALSE, print.console = TRUE)\n",
      "  \n",
      "  add <- paste(\"_lag_\",i,sep=\"\")\n",
      "  writeEOTOutput(path_EOT,modes,nrLayers,\"SLP\",\"TP\",lat_pred,lon_pred,lat_resp,lon_resp,add)\n",
      "}\n",
      "\n",
      "\n",
      "\n",
      "#plot(modes, 1, \n",
      "#        show.eot.loc = TRUE, \n",
      "#        arrange = \"lon\")\n"
     ],
     "language": "python",
     "metadata": {},
     "outputs": []
    },
    {
     "cell_type": "code",
     "collapsed": false,
     "input": [],
     "language": "python",
     "metadata": {},
     "outputs": []
    }
   ],
   "metadata": {}
  }
 ]
}