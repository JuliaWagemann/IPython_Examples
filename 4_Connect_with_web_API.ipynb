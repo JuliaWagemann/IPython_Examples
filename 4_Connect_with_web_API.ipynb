{
 "metadata": {
  "name": "",
  "signature": "sha256:79cdd8bbd89d3b19302d900a9236c3c6c4e4043edf35f8194a04f4046f061a41"
 },
 "nbformat": 3,
 "nbformat_minor": 0,
 "worksheets": [
  {
   "cells": [
    {
     "cell_type": "code",
     "collapsed": false,
     "input": [
      "from __future__ import print_function\n",
      "\n",
      "import numpy as np\n",
      "import os\n",
      "import matplotlib.pyplot as plt\n",
      "from pylab import figure\n",
      "import matplotlib.dates as ndates\n",
      "from pandas import *\n",
      "import ee\n",
      "\n",
      "from IPython.html import widgets\n",
      "from IPython.display import display\n",
      "from IPython.utils import traitlets\n",
      "from IPython.core.display import Javascript\n",
      "\n",
      "from ecmwfapi import ECMWFDataServer\n",
      "\n",
      "from os.path import expanduser\n",
      "import ssl\n",
      "\n",
      "import requests\n",
      "import json\n",
      "from pprint import pprint\n",
      "import fastkml.kml as kml\n",
      "import simplekml as skml\n",
      "\n",
      "from apiclient.discovery import build\n",
      "\n",
      "from osgeo import ogr\n",
      "import gdal as gd"
     ],
     "language": "python",
     "metadata": {},
     "outputs": [
      {
       "output_type": "stream",
       "stream": "stderr",
       "text": [
        "WARNING:fastkml.config:Package `lxml` missing. Pretty print will be disabled\n"
       ]
      }
     ],
     "prompt_number": 1
    },
    {
     "cell_type": "code",
     "collapsed": false,
     "input": [
      "%run integrateGoogleMaps.ipynb"
     ],
     "language": "python",
     "metadata": {},
     "outputs": [
      {
       "javascript": [
        "require([\"widgets/js/widget\"], function(WidgetManager){\n",
        "    var maps = [];\n",
        "    \n",
        "    // Define the GoogleMapsView\n",
        "    var GoogleMapsView = IPython.DOMWidgetView.extend({\n",
        "        \n",
        "        render: function() {\n",
        "            // Resize widget element to be 100% wide\n",
        "            this.$el.css('width', '100%');\n",
        "\n",
        "            // iframe source;  just enough to load Google Maps and let us poll whether initialization is complete\n",
        "            var src='<html style=\"height:100%\"><head>' +\n",
        "                '<scr'+'ipt src=\"http://maps.googleapis.com/maps/api/js?sensor=false\"></scr'+'ipt>' +\n",
        "                '<scr'+'ipt>google.maps.event.addDomListener(window,\"load\",function(){ready=true});</scr'+'ipt>' +\n",
        "                '</head>' +\n",
        "                '<body style=\"height:100%; margin:0px; padding:0px\"></body></html>';\n",
        "            \n",
        "            // Create the Google Maps container element.\n",
        "            this.$iframe = $('<iframe />')\n",
        "                .css('width', '100%')\n",
        "                .css('height', '300px')\n",
        "                .attr('srcdoc', src)\n",
        "                .appendTo(this.$el);\n",
        "                        \n",
        "            var self = this; // hold onto this for initMapWhenReady\n",
        "\n",
        "            // Wait until maps library has finished loading in iframe, then create map\n",
        "            function initMapWhenReady() {\n",
        "                // Iframe document and window\n",
        "                var doc = self.$iframe[0].contentDocument;\n",
        "               var win = self.$iframe[0].contentWindow;\n",
        "                if (!win || !win.ready) {\n",
        "                    // Maps library not yet loaded;  try again soon\n",
        "                    setTimeout(initMapWhenReady, 20);\n",
        "                    return;\n",
        "                }\n",
        "\n",
        "                // Maps library finished loading.  Build map now.\n",
        "                var mapOptions = {\n",
        "                    center: new win.google.maps.LatLng(self.model.get('lat'), self.model.get('lng')),\n",
        "                    zoom: self.model.get('zoom')\n",
        "                };\n",
        "                var mapDiv = $('<div />')\n",
        "                    .css('width', '100%')\n",
        "                    .css('height', '100%')\n",
        "                    .appendTo($(doc.body));\n",
        "                self.map = new win.google.maps.Map(mapDiv[0], mapOptions);\n",
        "                \n",
        "                \n",
        "                // Add an event listeners for user panning, zooming, and resizing map\n",
        "                // TODO(rsargent): Bind self across all methods, and save some plumbing here\n",
        "                win.google.maps.event.addListener(self.map, 'bounds_changed', function () {\n",
        "                    self.handleBoundsChanged();\n",
        "                });\n",
        "                \n",
        "                self.initializeLayersControl();\n",
        "            }\n",
        "           initMapWhenReady();\n",
        "        },\n",
        "        \n",
        "        LayersControl: function(widget, controlDiv, map) {\n",
        "            var win = widget.$iframe[0].contentWindow;\n",
        "            var chicago = new win.google.maps.LatLng(41.850033, -87.6500523);\n",
        "\n",
        "            // Set CSS styles for the DIV containing the control\n",
        "            // Setting padding to 5 px will offset the control\n",
        "            // from the edge of the map.\n",
        "            controlDiv.style.padding = '5px';\n",
        "\n",
        "            // Set CSS for the control border.\n",
        "            var $controlUI = $('<div />')\n",
        "                .css('backgroundColor', 'white')\n",
        "                .css('borderStyle', 'solid')\n",
        "                .css('borderWidth', '1px')\n",
        "                .css('cursor', 'pointer')\n",
        "                .css('textAlign', 'center')\n",
        "                .appendTo($(controlDiv));\n",
        "            \n",
        "            // Set CSS for the control interior.\n",
        "            var $controlContents = $('<div />')\n",
        "                .css('fontFamily', 'Arial,sans-serif')\n",
        "                .css('fontSize', '12px')\n",
        "                .css('paddingLeft', '4px')\n",
        "                .css('paddingRight', '4px')\n",
        "                .css('paddingTop', '0px')\n",
        "                .css('paddingBottom', '0px')\n",
        "                .appendTo($controlUI);\n",
        "            \n",
        "            this.$controlTable = $('<table />')\n",
        "                .append($('<tr><td colspan=2>Layers</td></tr>'))\n",
        "                .appendTo($controlContents);\n",
        "        },\n",
        "\n",
        "        initializeLayersControl: function() {\n",
        "            var doc = this.$iframe[0].contentDocument;\n",
        "            var win = this.$iframe[0].contentWindow;\n",
        "\n",
        "            // Create the DIV to hold the control and call the LayersControl() constructor\n",
        "            // passing in this DIV.\n",
        "    \n",
        "            var layersControlDiv = document.createElement('div');\n",
        "            this.layersControl = new this.LayersControl(this, layersControlDiv, this.map);\n",
        "\n",
        "            layersControlDiv.index = 1;\n",
        "            this.map.controls[win.google.maps.ControlPosition.TOP_RIGHT].push(layersControlDiv);\n",
        "        },\n",
        "        \n",
        "        // Map geometry changed (pan, zoom, resize)\n",
        "        handleBoundsChanged: function() {\n",
        "            this.model.set('lng', this.map.getCenter().lng());\n",
        "            this.model.set('lat', this.map.getCenter().lat());\n",
        "            this.model.set('zoom', this.map.getZoom());\n",
        "            var bounds = this.map.getBounds();\n",
        "            var playgroundCompatible = [bounds.getSouthWest().lng(), bounds.getSouthWest().lat(),\n",
        "                                        bounds.getNorthEast().lng(), bounds.getNorthEast().lat()];\n",
        "            this.model.set('bounds', playgroundCompatible);\n",
        "            this.touch();\n",
        "        },\n",
        "        \n",
        "        // Receive custom messages from Python backend\n",
        "        on_msg: function(msg) {\n",
        "            var win = this.$iframe[0].contentWindow;\n",
        "            if (msg.command == 'addLayer') {\n",
        "                this.addLayer(msg.mapid, msg.token, msg.name, msg.visible);\n",
        "            } else if (msg.command == 'center') {\n",
        "                this.map.setCenter(new win.google.maps.LatLng(msg.lat, msg.lng));\n",
        "                if (msg.zoom !== null) {\n",
        "                    this.map.setZoom(msg.zoom);\n",
        "                }\n",
        "            }\n",
        "        },\n",
        "        \n",
        "        // Add an Earth Engine layer\n",
        "        addLayer: function(mapid, token, name, visible) {\n",
        "            var win = this.$iframe[0].contentWindow;\n",
        "            var eeMapOptions = {\n",
        "                getTileUrl: function(tile, zoom) {\n",
        "                    var url = ['https://earthengine.googleapis.com/map',\n",
        "                               mapid, zoom, tile.x, tile.y].join(\"/\");\n",
        "                    url += '?token=' + token\n",
        "                    return url;\n",
        "                },\n",
        "                tileSize: new win.google.maps.Size(256, 256),\n",
        "                opacity: visible ? 1.0 : 0.0,\n",
        "            };\n",
        "            \n",
        "            // Create the overlay map type\n",
        "            var mapType = new win.google.maps.ImageMapType(eeMapOptions);\n",
        "                \n",
        "            // Overlay the Earth Engine generated layer\n",
        "            this.map.overlayMapTypes.push(mapType);\n",
        "\n",
        "            // Update layer visibility control\n",
        "            var maxSlider = 100;\n",
        "            \n",
        "            function updateOpacity() {\n",
        "                mapType.setOpacity($checkbox[0].checked ? $slider[0].value / 100.0 : 0);\n",
        "            }\n",
        "            \n",
        "            var $checkbox = $('<input type=\"checkbox\">')\n",
        "                .prop('checked', visible)\n",
        "                .change(updateOpacity);\n",
        "            \n",
        "            var $slider = $('<input type=\"range\" />')\n",
        "                .prop('min', 0)\n",
        "                .prop('max', maxSlider)\n",
        "                .prop('value', maxSlider)\n",
        "                .css('width', '60px')\n",
        "                .on('input', updateOpacity);\n",
        "\n",
        "            // If user doesn't specify a layer name, create a default\n",
        "            if (name === null) {\n",
        "                name = 'Layer ' + this.map.overlayMapTypes.length;\n",
        "            }\n",
        "            \n",
        "            var $row = $('<tr />');\n",
        "            $('<td align=\"left\" />').append($checkbox).append(name).appendTo($row);\n",
        "            $('<td />').append($slider).appendTo($row);\n",
        "\n",
        "            this.layersControl.$controlTable.append($row);\n",
        "        }\n",
        "    });\n",
        "    \n",
        "    // Register the GoogleMapsView with the widget manager.\n",
        "    WidgetManager.register_widget_view('GoogleMapsView', GoogleMapsView);\n",
        "});"
       ],
       "metadata": {},
       "output_type": "display_data",
       "text": [
        "<IPython.core.display.Javascript at 0x961c908>"
       ]
      }
     ],
     "prompt_number": 2
    },
    {
     "cell_type": "code",
     "collapsed": false,
     "input": [
      "class GoogleMapsWidget(widgets.DOMWidget):\n",
      "    _view_name = traitlets.Unicode('GoogleMapsView', sync=True)\n",
      "    value = traitlets.Unicode(sync=True)\n",
      "    description = traitlets.Unicode(sync=True)\n",
      "    lat = traitlets.CFloat(0, help=\"Center latitude, -90 to 90\", sync=True)\n",
      "    lng = traitlets.CFloat(0, help=\"Center longitude, -180 to 180\", sync=True)\n",
      "    zoom = traitlets.CInt(0, help=\"Zoom level, 0 to ~25\", sync=True)\n",
      "    bounds = traitlets.List([], help=\"Visible bounds, [W, S, E, N]\", sync=True)\n",
      "    \n",
      "    def __init__(self, lng=0.0, lat=0.0, zoom=2):\n",
      "        self.lng = lng\n",
      "        self.lat = lat\n",
      "        self.zoom = zoom\n",
      "        \n",
      "    def addLayer(self, image, vis_params, name=None, visible=True):\n",
      "        mapid = image.getMapId(vis_params)\n",
      "        self.send({'command':'addLayer', 'mapid': mapid['mapid'], 'token': mapid['token'], 'name': name, 'visible': visible})\n",
      "        \n",
      "    def center(self, lng, lat, zoom=None):\n",
      "        self.send({'command': 'center', 'lng': lng, 'lat': lat, 'zoom': zoom})"
     ],
     "language": "python",
     "metadata": {},
     "outputs": []
    },
    {
     "cell_type": "code",
     "collapsed": false,
     "input": [
      "ee.Initialize()"
     ],
     "language": "python",
     "metadata": {},
     "outputs": [],
     "prompt_number": 3
    },
    {
     "cell_type": "heading",
     "level": 3,
     "metadata": {},
     "source": [
      "Connect with Worldbank Climate Data API"
     ]
    },
    {
     "cell_type": "code",
     "collapsed": false,
     "input": [
      "# Load kml files on country or basin level in json format\n",
      "climateApi2 = requests.get(\"http://climatedataapi.worldbank.org/climateweb/rest/v1/country/kml/AUS\")\n",
      "# Put loaded json kml information to a Python KML object\n",
      "k = kml.KML()\n",
      "k.from_string(climateApi2.text)\n",
      "\n",
      "# Write the KML object to disc\n",
      "outputFile = file(\"test.kml\",\"w\")\n",
      "outputFile.write(k.to_string())\n",
      "outputFile.close()\n",
      "\n",
      "# Function loadDataFromClimateApi that puts together the url needed for the Worldbank's Climate Data API. It returns a list of python dictionaries.\n",
      "def loadDataFromClimateApi(url,level,statType,var,start,end,code):\n",
      "    climateApi = requests.get(url+level+\"/\"+statType+\"/\"+var+\"/\"+start+\"/\"+end+\"/\"+code)\n",
      "    data = json.loads(climateApi.text)\n",
      "    return data\n",
      "\n",
      "# Load monthly mean precipitation time series for Australia between 1980 and 1999 --> test is a list of python dictionaries\n",
      "test = loadDataFromClimateApi(url=\"http://climatedataapi.worldbank.org/climateweb/rest/v1/\",\n",
      "                             level=\"country\",\n",
      "                             statType=\"mavg\",\n",
      "                             var=\"pr\",\n",
      "                             start=\"1980\",\n",
      "                             end=\"1999\",\n",
      "                             code=\"AUS\")\n",
      "\n",
      "# Data from a list of python dictionaries are retrieved by iterating through the list and then calling the required dictionary entry\n",
      "testList = []\n",
      "for item in test:\n",
      "    testList.append(item[u'monthVals'])\n",
      "\n",
      "# Convert the list into a numpy array\n",
      "test2 = np.matrix(testList)\n",
      "print (test2)\n",
      "print(test2[:,1])"
     ],
     "language": "python",
     "metadata": {},
     "outputs": [
      {
       "output_type": "stream",
       "stream": "stdout",
       "text": [
        "[[ 145.2147442   152.1000659   132.2469297    95.78192808   65.68873722\n",
        "    46.7608082    47.37453042   42.63793169   49.62307584   58.67578397\n",
        "    86.57668973  136.4244906 ]\n",
        " [  62.75995045   66.69719343   66.16181581   39.0572022    37.75383592\n",
        "    34.66583859   29.49465083   29.05384564   25.57699883   21.25628535\n",
        "    23.16091196   30.46213946]\n",
        " [ 125.1694013   120.7918709    95.38714592   76.13402103   55.29549028\n",
        "    42.11043359   32.27587123   26.72897891   23.70789177   32.0979657\n",
        "    54.95476521   99.66923158]\n",
        " [  90.60182995   99.41776593   72.44025636   50.50446155   36.17323923\n",
        "    24.47993501   20.10282582   12.30734975   11.39511207   12.63417895\n",
        "    23.78926725   53.76818727]\n",
        " [  72.19420139   69.37458183   51.2219884    24.60559168   26.2954302\n",
        "    30.27406113   27.9851704    26.03990667   19.42956093   15.67589149\n",
        "    25.05198119   53.15280293]\n",
        " [ 110.70115751  130.25147978   81.51701366   41.13893758   24.35977013\n",
        "    29.58668308   24.68106955   19.91794492   14.09036337   19.37600472\n",
        "    38.33939815   77.84636611]\n",
        " [ 156.25305328  147.69428309  121.47358039   52.28086881   30.67290293\n",
        "    32.49736857   36.02608389   30.22172125   25.92128851   34.34684787\n",
        "    79.30232858  132.64596802]\n",
        " [  69.73203261   60.14235423   49.25748765   45.33664723   39.84309673\n",
        "    30.76229954   28.73984734   30.24678104   26.21868093   32.45583474\n",
        "    43.49425144   61.12152046]\n",
        " [  28.42667264   30.07046372   34.34868024   26.48537367   21.19086709\n",
        "    28.3150413    25.7101327    19.54393007   13.2807603    11.0003176\n",
        "     9.76089314   11.278295  ]\n",
        " [ 124.65992508  103.02928855  114.76784193   67.23532498   46.13047096\n",
        "    46.83001003   46.68017798   43.1850116    44.05344712   58.29094346\n",
        "    76.41233465  109.89653953]\n",
        " [ 103.72972447  109.02453875   92.66296046   45.16087545   37.3367949\n",
        "    37.69562374   30.31441395   25.74929062   26.01021124   27.67369076\n",
        "    50.03091165   92.91707203]\n",
        " [  79.75841159   84.74859562   66.19650085   37.20875454   40.40065218\n",
        "    32.39479708   24.29867471   20.04312777   11.44024818   12.47644358\n",
        "    25.00874602   58.79720462]\n",
        " [  50.01958102   60.06018988   42.9568403    19.20301046   19.49039753\n",
        "    21.50563722   15.5427347    12.85522672    8.23939318    8.23687064\n",
        "    14.25651598   25.80648332]\n",
        " [ 112.21491722  103.9517652    82.14369948   51.89847249   38.39832576\n",
        "    34.04840952   36.84725611   33.47028715   24.37672043   26.04432369\n",
        "    42.27317052   85.0390786 ]\n",
        " [ 104.09164574   92.05418331  100.04284676   65.49338068   43.77720391\n",
        "    29.95268492   30.90813913   26.4695272    24.05359523   27.50542281\n",
        "    34.26905133   58.58654718]]\n",
        "[[ 152.1000659 ]\n",
        " [  66.69719343]\n",
        " [ 120.7918709 ]\n",
        " [  99.41776593]\n",
        " [  69.37458183]\n",
        " [ 130.25147978]\n",
        " [ 147.69428309]\n",
        " [  60.14235423]\n",
        " [  30.07046372]\n",
        " [ 103.02928855]\n",
        " [ 109.02453875]\n",
        " [  84.74859562]\n",
        " [  60.06018988]\n",
        " [ 103.9517652 ]\n",
        " [  92.05418331]]\n"
       ]
      }
     ],
     "prompt_number": 28
    },
    {
     "cell_type": "heading",
     "level": 3,
     "metadata": {},
     "source": [
      "Access ERA reanalysis data via batch server"
     ]
    },
    {
     "cell_type": "code",
     "collapsed": false,
     "input": [
      "# Connect to ECMWF data server, with your personal API key\n",
      "server = ECMWFDataServer(url=\"https://api.ecmwf.int/v1\",key=\"85566bdb1310a0934e82274f7d2faead\",email=\"julia.wagemann@esa.int\")\n",
      "\n",
      "server.retrieve({\n",
      "    'stream'    : \"moda\",\n",
      "    'levtype'   : \"sfc\",\n",
      "    'param'     : \"34.128\",\n",
      "    'dataset'   : \"interim\",\n",
      "    'grid'      : \"3/3\",\n",
      "    'date'      : \"19790101/19790201\",\n",
      "    'type'      : \"an\",\n",
      "    'class'     : \"ei\",\n",
      "    'target'    : \"test.grib\"\n",
      "})"
     ],
     "language": "python",
     "metadata": {},
     "outputs": [
      {
       "output_type": "stream",
       "stream": "stdout",
       "text": [
        "2014-12-02 16:45:51 ECMWF API python library 1.3\n",
        "2014-12-02 16:45:51 ECMWF API at https://api.ecmwf.int/v1\n",
        "2014-12-02 16:45:51 Welcome Julia Wagemann"
       ]
      },
      {
       "output_type": "stream",
       "stream": "stdout",
       "text": [
        "\n",
        "2014-12-02 16:45:52 In case of problems, please check https://software.ecmwf.int/wiki/display/WEBAPI/Troubleshooting or contact calldesk@ecmwf.int"
       ]
      },
      {
       "output_type": "stream",
       "stream": "stdout",
       "text": [
        "\n",
        "2014-12-02 16:45:53 Request is queued"
       ]
      },
      {
       "output_type": "stream",
       "stream": "stdout",
       "text": [
        "\n",
        "Calling nice mars /tmp/tmp-mars20686-13426.req"
       ]
      },
      {
       "output_type": "stream",
       "stream": "stdout",
       "text": [
        "\n",
        "PPDIR is /var/tmp/ppdir/x86_64\n",
        "mars - INFO   - 20141202.154553 - Welcome to MARS with grib_api and ODB\n",
        "mars - INFO   - 20141202.154553 - grib_api created on  20141029\n",
        "mars - INFO   - 20141202.154553 - Using odb_api version: 0.10.2 (file format version: 0.5)\n",
        "mars - INFO   - 20141202.154553 - odb_api created on  20140527\n",
        "mars - INFO   - 20141202.154553 - Using grib_api version 1.12.3\n",
        "mars - INFO   - 20141202.154553 - EMOSLIB version: 395\n",
        "retrieve,stream=moda,levtype=sfc,param=34.128,padding=0,grid=3/3,expver=0001,date=19790101/19790201,type=an,class=ei,expect=any\n",
        "RETRIEVE,\n",
        "mars - INFO   - 20141202.154553 - Processing request 1\n",
        "    CLASS      = EI,\n",
        "    GRID       = 3/3,\n",
        "\n",
        "    REPRES     = SH,\n",
        "    EXPVER     = 0001,\n",
        "    DOMAIN     = G,\n",
        "    PARAM      = 34.128,\n",
        "\n",
        "    TYPE       = AN,\n",
        "    STREAM     = MODA,\n",
        "mars - INFO   - 20141202.154553 - Web API request id: 547ddeb1de6efe3a0201e0f4\n",
        "    EXPECT     = ANY\n",
        "    RESOL      = AUTO,\n",
        "    LEVTYPE    = SFC,\n",
        "    PADDING    = 0,\n",
        "    DATE       = 19790101/19790201,\n",
        "mars - INFO   - 20141202.154553 - Requesting any number of fields (request describes 2)\n",
        "mars - INFO   - 20141202.154553 - Calling mars on 'marser', callback on 50166\n",
        "mars - INFO   - 20141202.154553 - Request cost: 2 fields, 269.16 Kbytes online, nodes: mvr02 [marser]\n",
        "mars - INFO   - 20141202.154553 - Server task is 322 [marser]\n",
        "mars - INFO   - 20141202.154553 - Transfering 275620 bytes\n",
        "mars - INFO   - 20141202.154553 - 2 fields have been interpolated\n",
        "mars - INFO   - 20141202.154553 -   Read from network: 269.16 Kbyte(s) in < 1 sec [6.78 Mbyte/sec]\n",
        "mars - INFO   - 20141202.154553 -   Writing to target file: 20.90 Kbyte(s) in < 1 sec [194.37 Mbyte/sec]\n",
        "mars - INFO   - 20141202.154553 - No errors reported\n",
        "End of nice mars /tmp/tmp-mars20686-13426.req\n",
        "mars - INFO   - 20141202.154553 - 2 fields retrieved from 'marser'\n",
        "2014-12-02 16:45:54 Request is complete\n",
        "2014-12-02 16:45:54 Transfering 20.8984 Kbytes into test.grib\n",
        "2014-12-02 16:45:54 From http://download.ecmwf.org/data/web228/mars-web228-20141202154553-20686-13427.grib\n",
        "2014-12-02 16:45:54 Transfer rate 56.4823 Kbytes/s"
       ]
      },
      {
       "output_type": "stream",
       "stream": "stdout",
       "text": [
        "\n"
       ]
      }
     ],
     "prompt_number": 22
    },
    {
     "cell_type": "heading",
     "level": 3,
     "metadata": {},
     "source": [
      "How to load a Google Fusion Table into Google Earth Engine"
     ]
    },
    {
     "cell_type": "code",
     "collapsed": false,
     "input": [
      "map = GoogleMapsWidget(lat=-27,lng=-58.0,zoom=5)\n",
      "display(map)\n",
      "\n",
      "# Google Fusion Tables are indicated with 'ft:...' \n",
      "# --> saved\n",
      "test = ee.FeatureCollection('ft:1MCqSkYxXWvD1bnW_dnYKTvNG_Y8AI4aaTnBOhsiK')\n",
      "\n",
      "visparams = {'bands': 'B4,B3,B2','min':6000,'max':20000}\n",
      "map.addLayer(test,visparams)\n"
     ],
     "language": "python",
     "metadata": {},
     "outputs": [],
     "prompt_number": 14
    },
    {
     "cell_type": "heading",
     "level": 3,
     "metadata": {},
     "source": [
      "How to access Copernicus MACC reanalysis data"
     ]
    },
    {
     "cell_type": "code",
     "collapsed": false,
     "input": [
      "server = ECMWFDataServer(url=\"https://api.ecmwf.int/v1\",key=\"85566bdb1310a0934e82274f7d2faead\",email=\"julia.wagemann@esa.int\")\n",
      "\n",
      "server.request()\n",
      "\n"
     ],
     "language": "python",
     "metadata": {},
     "outputs": []
    }
   ],
   "metadata": {}
  }
 ]
}